import osmnx as ox
import networkx as nx
import os
import folium
import matplotlib.pyplot as plt
import numpy as np

def load_local_map(osm_file):
   
    if not os.path.exists(osm_file):
        raise FileNotFoundError(f"OSM file '{osm_file}' not found!")
    
    G = ox.graph_from_xml(osm_file)
    print(f"Graph loaded with {len(G.nodes)} nodes and {len(G.edges)} edges.")
    return G

def find_shortest_paths(G, initial_coords, final_coords):
    
    shortest_paths = {}
    
    for start_name, start_coord in initial_coords.items():
        start_node = ox.distance.nearest_nodes(G, start_coord[1], start_coord[0])
        shortest_paths[start_name] = {}
        
        for end_name, end_coord in final_coords.items():
            end_node = ox.distance.nearest_nodes(G, end_coord[1], end_coord[0])
            
            path = nx.shortest_path(G, source=start_node, target=end_node, weight='length')
            distance = nx.shortest_path_length(G, source=start_node, target=end_node, weight='length')
            
            shortest_paths[start_name][end_name] = {
                "path": path,
                "distance_meters": distance
            }
    
    return shortest_paths

def plot_shortest_paths(G, shortest_paths, initial_coords, final_coords):
    
    first_location = list(initial_coords.values())[0]
    m = folium.Map(location=[first_location[0], first_location[1]], zoom_start=16)
    
    for start_name, destinations in shortest_paths.items():
        for end_name, details in destinations.items():
            path_nodes = details['path']
            path_edges = [(G.nodes[u]['y'], G.nodes[u]['x']) for u in path_nodes]
            folium.PolyLine(path_edges, color="blue", weight=3, opacity=0.7).add_to(m)
            
            folium.Marker(
                location=initial_coords[start_name],
                popup=f"Start: {start_name}",
                icon=folium.Icon(color="green")
            ).add_to(m)
            
            folium.Marker(
                location=final_coords[end_name],
                popup=f"End: {end_name}",
                icon=folium.Icon(color="red")
            ).add_to(m)
    
    return m

def plot_graph(G, shortest_paths):
    
    fig, ax = ox.plot_graph(G, show=False, close=False, edge_color="gray", node_size=10)

    for start_name, destinations in shortest_paths.items():
        for end_name, details in destinations.items():
            path_nodes = details['path']
            ox.plot_graph_route(G, path_nodes, route_linewidth=2, route_color='blue', ax=ax)

    plt.show()


def compute_average_distances(shortest_paths):
    
    averages = {}
    for start, destinations in shortest_paths.items():
        distances = [details['distance_meters'] for details in destinations.values()]
        averages[start] = np.mean(distances) if distances else 0
    
    for hostel, avg_distance in averages.items():
        print(f"Average shortest distance for {hostel}: {avg_distance:.2f} meters")

osm_file = "map.osm"
initial_locations = {
    "SR Bhawan":[28.36562, 75.58703],
    "Krishna Bhawan":[28.36257, 75.58791],
    "Gandhi Bhawan": [28.36104, 75.5882]
}

final_locations = {
    "LTC": [28.36524, 75.59068],
    "Workshop": [28.36575, 75.58782],
    "Gymg": [28.35938, 75.59137],
    "NAB": [28.36196, 75.5866],
    
    "SAC": [28.36085, 75.58586],
    "Main Gate": [28.36145, 75.59303],
    "Looters":[28.36138 , 75.58576],
    "Cannaught Place":[28.35627,75.59141],
    "ANC":[28.36036, 75.58927],
    "Saraswati Temple":[28.35772, 75.58879]
}

G = load_local_map(osm_file)

shortest_paths = find_shortest_paths(G, initial_locations, final_locations)

compute_average_distances(shortest_paths)

map_with_paths = plot_shortest_paths(G, shortest_paths, initial_locations, final_locations)
map_with_paths.save("shortest_paths_map.html")

plot_graph(G,shortest_paths)
